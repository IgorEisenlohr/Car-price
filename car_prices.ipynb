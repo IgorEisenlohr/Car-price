{
    "cells": [
        {
            "cell_type": "code",
            "execution_count": 2,
            "metadata": {},
            "outputs": [],
            "source": "import pandas as pd\nimport seaborn as sns\nimport matplotlib.pyplot as plt\nimport numpy as np"
        },
        {
            "cell_type": "code",
            "execution_count": 6,
            "metadata": {},
            "outputs": [
                {
                    "data": {
                        "text/html": "<div>\n<style scoped>\n    .dataframe tbody tr th:only-of-type {\n        vertical-align: middle;\n    }\n\n    .dataframe tbody tr th {\n        vertical-align: top;\n    }\n\n    .dataframe thead th {\n        text-align: right;\n    }\n</style>\n<table border=\"1\" class=\"dataframe\">\n  <thead>\n    <tr style=\"text-align: right;\">\n      <th></th>\n      <th>0</th>\n      <th>1</th>\n      <th>2</th>\n      <th>3</th>\n      <th>4</th>\n      <th>5</th>\n      <th>6</th>\n      <th>7</th>\n      <th>8</th>\n      <th>9</th>\n      <th>...</th>\n      <th>16</th>\n      <th>17</th>\n      <th>18</th>\n      <th>19</th>\n      <th>20</th>\n      <th>21</th>\n      <th>22</th>\n      <th>23</th>\n      <th>24</th>\n      <th>25</th>\n    </tr>\n  </thead>\n  <tbody>\n    <tr>\n      <th>0</th>\n      <td>3</td>\n      <td>?</td>\n      <td>alfa-romero</td>\n      <td>gas</td>\n      <td>std</td>\n      <td>two</td>\n      <td>convertible</td>\n      <td>rwd</td>\n      <td>front</td>\n      <td>88.6</td>\n      <td>...</td>\n      <td>130</td>\n      <td>mpfi</td>\n      <td>3.47</td>\n      <td>2.68</td>\n      <td>9.0</td>\n      <td>111</td>\n      <td>5000</td>\n      <td>21</td>\n      <td>27</td>\n      <td>13495</td>\n    </tr>\n    <tr>\n      <th>1</th>\n      <td>3</td>\n      <td>?</td>\n      <td>alfa-romero</td>\n      <td>gas</td>\n      <td>std</td>\n      <td>two</td>\n      <td>convertible</td>\n      <td>rwd</td>\n      <td>front</td>\n      <td>88.6</td>\n      <td>...</td>\n      <td>130</td>\n      <td>mpfi</td>\n      <td>3.47</td>\n      <td>2.68</td>\n      <td>9.0</td>\n      <td>111</td>\n      <td>5000</td>\n      <td>21</td>\n      <td>27</td>\n      <td>16500</td>\n    </tr>\n    <tr>\n      <th>2</th>\n      <td>1</td>\n      <td>?</td>\n      <td>alfa-romero</td>\n      <td>gas</td>\n      <td>std</td>\n      <td>two</td>\n      <td>hatchback</td>\n      <td>rwd</td>\n      <td>front</td>\n      <td>94.5</td>\n      <td>...</td>\n      <td>152</td>\n      <td>mpfi</td>\n      <td>2.68</td>\n      <td>3.47</td>\n      <td>9.0</td>\n      <td>154</td>\n      <td>5000</td>\n      <td>19</td>\n      <td>26</td>\n      <td>16500</td>\n    </tr>\n    <tr>\n      <th>3</th>\n      <td>2</td>\n      <td>164</td>\n      <td>audi</td>\n      <td>gas</td>\n      <td>std</td>\n      <td>four</td>\n      <td>sedan</td>\n      <td>fwd</td>\n      <td>front</td>\n      <td>99.8</td>\n      <td>...</td>\n      <td>109</td>\n      <td>mpfi</td>\n      <td>3.19</td>\n      <td>3.40</td>\n      <td>10.0</td>\n      <td>102</td>\n      <td>5500</td>\n      <td>24</td>\n      <td>30</td>\n      <td>13950</td>\n    </tr>\n    <tr>\n      <th>4</th>\n      <td>2</td>\n      <td>164</td>\n      <td>audi</td>\n      <td>gas</td>\n      <td>std</td>\n      <td>four</td>\n      <td>sedan</td>\n      <td>4wd</td>\n      <td>front</td>\n      <td>99.4</td>\n      <td>...</td>\n      <td>136</td>\n      <td>mpfi</td>\n      <td>3.19</td>\n      <td>3.40</td>\n      <td>8.0</td>\n      <td>115</td>\n      <td>5500</td>\n      <td>18</td>\n      <td>22</td>\n      <td>17450</td>\n    </tr>\n  </tbody>\n</table>\n<p>5 rows \u00d7 26 columns</p>\n</div>",
                        "text/plain": "   0    1            2    3    4     5            6    7      8     9   ...  \\\n0   3    ?  alfa-romero  gas  std   two  convertible  rwd  front  88.6  ...   \n1   3    ?  alfa-romero  gas  std   two  convertible  rwd  front  88.6  ...   \n2   1    ?  alfa-romero  gas  std   two    hatchback  rwd  front  94.5  ...   \n3   2  164         audi  gas  std  four        sedan  fwd  front  99.8  ...   \n4   2  164         audi  gas  std  four        sedan  4wd  front  99.4  ...   \n\n    16    17    18    19    20   21    22  23  24     25  \n0  130  mpfi  3.47  2.68   9.0  111  5000  21  27  13495  \n1  130  mpfi  3.47  2.68   9.0  111  5000  21  27  16500  \n2  152  mpfi  2.68  3.47   9.0  154  5000  19  26  16500  \n3  109  mpfi  3.19  3.40  10.0  102  5500  24  30  13950  \n4  136  mpfi  3.19  3.40   8.0  115  5500  18  22  17450  \n\n[5 rows x 26 columns]"
                    },
                    "execution_count": 6,
                    "metadata": {},
                    "output_type": "execute_result"
                }
            ],
            "source": "url = \"https://archive.ics.uci.edu/ml/machine-learning-databases/autos/imports-85.data\"\ndf = pd.read_csv(url, header=None)\ndf.head()"
        },
        {
            "cell_type": "markdown",
            "metadata": {},
            "source": "Changing the columns name"
        },
        {
            "cell_type": "code",
            "execution_count": 13,
            "metadata": {},
            "outputs": [
                {
                    "data": {
                        "text/html": "<div>\n<style scoped>\n    .dataframe tbody tr th:only-of-type {\n        vertical-align: middle;\n    }\n\n    .dataframe tbody tr th {\n        vertical-align: top;\n    }\n\n    .dataframe thead th {\n        text-align: right;\n    }\n</style>\n<table border=\"1\" class=\"dataframe\">\n  <thead>\n    <tr style=\"text-align: right;\">\n      <th></th>\n      <th>symboling</th>\n      <th>normalized-losses</th>\n      <th>make</th>\n      <th>fuel-type</th>\n      <th>aspiration</th>\n      <th>num-of-doors</th>\n      <th>body-style</th>\n      <th>drive-wheels</th>\n      <th>engine-location</th>\n      <th>wheel-base</th>\n      <th>...</th>\n      <th>engine-size</th>\n      <th>fuel-system</th>\n      <th>bore</th>\n      <th>stroke</th>\n      <th>compression-ratio</th>\n      <th>horsepower</th>\n      <th>peak-rps</th>\n      <th>city-mpg</th>\n      <th>highway-mpg</th>\n      <th>price</th>\n    </tr>\n  </thead>\n  <tbody>\n    <tr>\n      <th>0</th>\n      <td>3</td>\n      <td>?</td>\n      <td>alfa-romero</td>\n      <td>gas</td>\n      <td>std</td>\n      <td>two</td>\n      <td>convertible</td>\n      <td>rwd</td>\n      <td>front</td>\n      <td>88.6</td>\n      <td>...</td>\n      <td>130</td>\n      <td>mpfi</td>\n      <td>3.47</td>\n      <td>2.68</td>\n      <td>9.0</td>\n      <td>111</td>\n      <td>5000</td>\n      <td>21</td>\n      <td>27</td>\n      <td>13495</td>\n    </tr>\n    <tr>\n      <th>1</th>\n      <td>3</td>\n      <td>?</td>\n      <td>alfa-romero</td>\n      <td>gas</td>\n      <td>std</td>\n      <td>two</td>\n      <td>convertible</td>\n      <td>rwd</td>\n      <td>front</td>\n      <td>88.6</td>\n      <td>...</td>\n      <td>130</td>\n      <td>mpfi</td>\n      <td>3.47</td>\n      <td>2.68</td>\n      <td>9.0</td>\n      <td>111</td>\n      <td>5000</td>\n      <td>21</td>\n      <td>27</td>\n      <td>16500</td>\n    </tr>\n    <tr>\n      <th>2</th>\n      <td>1</td>\n      <td>?</td>\n      <td>alfa-romero</td>\n      <td>gas</td>\n      <td>std</td>\n      <td>two</td>\n      <td>hatchback</td>\n      <td>rwd</td>\n      <td>front</td>\n      <td>94.5</td>\n      <td>...</td>\n      <td>152</td>\n      <td>mpfi</td>\n      <td>2.68</td>\n      <td>3.47</td>\n      <td>9.0</td>\n      <td>154</td>\n      <td>5000</td>\n      <td>19</td>\n      <td>26</td>\n      <td>16500</td>\n    </tr>\n    <tr>\n      <th>3</th>\n      <td>2</td>\n      <td>164</td>\n      <td>audi</td>\n      <td>gas</td>\n      <td>std</td>\n      <td>four</td>\n      <td>sedan</td>\n      <td>fwd</td>\n      <td>front</td>\n      <td>99.8</td>\n      <td>...</td>\n      <td>109</td>\n      <td>mpfi</td>\n      <td>3.19</td>\n      <td>3.40</td>\n      <td>10.0</td>\n      <td>102</td>\n      <td>5500</td>\n      <td>24</td>\n      <td>30</td>\n      <td>13950</td>\n    </tr>\n    <tr>\n      <th>4</th>\n      <td>2</td>\n      <td>164</td>\n      <td>audi</td>\n      <td>gas</td>\n      <td>std</td>\n      <td>four</td>\n      <td>sedan</td>\n      <td>4wd</td>\n      <td>front</td>\n      <td>99.4</td>\n      <td>...</td>\n      <td>136</td>\n      <td>mpfi</td>\n      <td>3.19</td>\n      <td>3.40</td>\n      <td>8.0</td>\n      <td>115</td>\n      <td>5500</td>\n      <td>18</td>\n      <td>22</td>\n      <td>17450</td>\n    </tr>\n  </tbody>\n</table>\n<p>5 rows \u00d7 26 columns</p>\n</div>",
                        "text/plain": "   symboling normalized-losses         make fuel-type aspiration num-of-doors  \\\n0          3                 ?  alfa-romero       gas        std          two   \n1          3                 ?  alfa-romero       gas        std          two   \n2          1                 ?  alfa-romero       gas        std          two   \n3          2               164         audi       gas        std         four   \n4          2               164         audi       gas        std         four   \n\n    body-style drive-wheels engine-location  wheel-base  ...  engine-size  \\\n0  convertible          rwd           front        88.6  ...          130   \n1  convertible          rwd           front        88.6  ...          130   \n2    hatchback          rwd           front        94.5  ...          152   \n3        sedan          fwd           front        99.8  ...          109   \n4        sedan          4wd           front        99.4  ...          136   \n\n   fuel-system  bore  stroke compression-ratio horsepower  peak-rps city-mpg  \\\n0         mpfi  3.47    2.68               9.0        111      5000       21   \n1         mpfi  3.47    2.68               9.0        111      5000       21   \n2         mpfi  2.68    3.47               9.0        154      5000       19   \n3         mpfi  3.19    3.40              10.0        102      5500       24   \n4         mpfi  3.19    3.40               8.0        115      5500       18   \n\n  highway-mpg  price  \n0          27  13495  \n1          27  16500  \n2          26  16500  \n3          30  13950  \n4          22  17450  \n\n[5 rows x 26 columns]"
                    },
                    "execution_count": 13,
                    "metadata": {},
                    "output_type": "execute_result"
                }
            ],
            "source": "headers = ['symboling','normalized-losses','make','fuel-type','aspiration','num-of-doors',\n           'body-style','drive-wheels','engine-location','wheel-base','lenght','width','height',\n           'curb-weight','engine-type','num-of-cylinders','engine-size','fuel-system',\n           'bore','stroke','compression-ratio','horsepower','peak-rps','city-mpg','highway-mpg','price']\n\ndf.columns = headers\ndf.head()"
        },
        {
            "cell_type": "markdown",
            "metadata": {},
            "source": "Data types"
        },
        {
            "cell_type": "code",
            "execution_count": 14,
            "metadata": {},
            "outputs": [
                {
                    "name": "stdout",
                    "output_type": "stream",
                    "text": "<class 'pandas.core.frame.DataFrame'>\nRangeIndex: 205 entries, 0 to 204\nData columns (total 26 columns):\n #   Column             Non-Null Count  Dtype  \n---  ------             --------------  -----  \n 0   symboling          205 non-null    int64  \n 1   normalized-losses  205 non-null    object \n 2   make               205 non-null    object \n 3   fuel-type          205 non-null    object \n 4   aspiration         205 non-null    object \n 5   num-of-doors       205 non-null    object \n 6   body-style         205 non-null    object \n 7   drive-wheels       205 non-null    object \n 8   engine-location    205 non-null    object \n 9   wheel-base         205 non-null    float64\n 10  lenght             205 non-null    float64\n 11  width              205 non-null    float64\n 12  height             205 non-null    float64\n 13  curb-weight        205 non-null    int64  \n 14  engine-type        205 non-null    object \n 15  num-of-cylinders   205 non-null    object \n 16  engine-size        205 non-null    int64  \n 17  fuel-system        205 non-null    object \n 18  bore               205 non-null    object \n 19  stroke             205 non-null    object \n 20  compression-ratio  205 non-null    float64\n 21  horsepower         205 non-null    object \n 22  peak-rps           205 non-null    object \n 23  city-mpg           205 non-null    int64  \n 24  highway-mpg        205 non-null    int64  \n 25  price              205 non-null    object \ndtypes: float64(5), int64(5), object(16)\nmemory usage: 41.8+ KB\n"
                }
            ],
            "source": "df.info()"
        },
        {
            "cell_type": "markdown",
            "metadata": {},
            "source": "Sum of NaN for each column"
        },
        {
            "cell_type": "code",
            "execution_count": 22,
            "metadata": {},
            "outputs": [
                {
                    "data": {
                        "text/plain": "symboling            0\nnormalized-losses    0\nmake                 0\nfuel-type            0\naspiration           0\nnum-of-doors         0\nbody-style           0\ndrive-wheels         0\nengine-location      0\nwheel-base           0\nlenght               0\nwidth                0\nheight               0\ncurb-weight          0\nengine-type          0\nnum-of-cylinders     0\nengine-size          0\nfuel-system          0\nbore                 0\nstroke               0\ncompression-ratio    0\nhorsepower           0\npeak-rps             0\ncity-mpg             0\nhighway-mpg          0\nprice                0\ndtype: int64"
                    },
                    "execution_count": 22,
                    "metadata": {},
                    "output_type": "execute_result"
                }
            ],
            "source": "df.isnull().sum()"
        },
        {
            "cell_type": "markdown",
            "metadata": {},
            "source": "How many \"?\" for each column -> this should be interpretated as NaN"
        },
        {
            "cell_type": "code",
            "execution_count": 39,
            "metadata": {},
            "outputs": [
                {
                    "name": "stdout",
                    "output_type": "stream",
                    "text": "Numero de \"?\" em cada coluna\nCounter({'normalized-losses': 41, 'bore': 4, 'stroke': 4, 'price': 4, 'num-of-doors': 2, 'horsepower': 2, 'peak-rps': 2})\n"
                }
            ],
            "source": "from collections import Counter\ncount = 0\ncolumn = []\nfor col in df.columns:\n    for line in df[col]:\n        if line == '?':\n            column.append(col)\n            count +=1   \nprint('Numero de \"?\" em cada coluna')\nprint(Counter(column))"
        },
        {
            "cell_type": "code",
            "execution_count": 44,
            "metadata": {},
            "outputs": [],
            "source": "df = df.replace('?',np.NaN)"
        },
        {
            "cell_type": "code",
            "execution_count": 45,
            "metadata": {},
            "outputs": [
                {
                    "data": {
                        "text/plain": "symboling             0\nnormalized-losses    41\nmake                  0\nfuel-type             0\naspiration            0\nnum-of-doors          2\nbody-style            0\ndrive-wheels          0\nengine-location       0\nwheel-base            0\nlenght                0\nwidth                 0\nheight                0\ncurb-weight           0\nengine-type           0\nnum-of-cylinders      0\nengine-size           0\nfuel-system           0\nbore                  4\nstroke                4\ncompression-ratio     0\nhorsepower            2\npeak-rps              2\ncity-mpg              0\nhighway-mpg           0\nprice                 4\ndtype: int64"
                    },
                    "execution_count": 45,
                    "metadata": {},
                    "output_type": "execute_result"
                }
            ],
            "source": "df.isnull().sum()"
        },
        {
            "cell_type": "code",
            "execution_count": 47,
            "metadata": {},
            "outputs": [],
            "source": "df.dropna(subset=['price'], axis=0, inplace=True)"
        },
        {
            "cell_type": "code",
            "execution_count": 50,
            "metadata": {},
            "outputs": [],
            "source": "df.price = df.price.astype(float)"
        },
        {
            "cell_type": "code",
            "execution_count": 52,
            "metadata": {},
            "outputs": [
                {
                    "data": {
                        "text/plain": "symboling              6\nnormalized-losses     51\nmake                  22\nfuel-type              2\naspiration             2\nnum-of-doors           2\nbody-style             5\ndrive-wheels           3\nengine-location        2\nwheel-base            52\nlenght                73\nwidth                 43\nheight                49\ncurb-weight          169\nengine-type            6\nnum-of-cylinders       7\nengine-size           43\nfuel-system            8\nbore                  38\nstroke                36\ncompression-ratio     32\nhorsepower            58\npeak-rps              22\ncity-mpg              29\nhighway-mpg           30\nprice                186\ndtype: int64"
                    },
                    "execution_count": 52,
                    "metadata": {},
                    "output_type": "execute_result"
                }
            ],
            "source": "df.nunique()"
        },
        {
            "cell_type": "code",
            "execution_count": 51,
            "metadata": {},
            "outputs": [
                {
                    "data": {
                        "text/html": "<div>\n<style scoped>\n    .dataframe tbody tr th:only-of-type {\n        vertical-align: middle;\n    }\n\n    .dataframe tbody tr th {\n        vertical-align: top;\n    }\n\n    .dataframe thead th {\n        text-align: right;\n    }\n</style>\n<table border=\"1\" class=\"dataframe\">\n  <thead>\n    <tr style=\"text-align: right;\">\n      <th></th>\n      <th>count</th>\n      <th>mean</th>\n      <th>std</th>\n      <th>min</th>\n      <th>25%</th>\n      <th>50%</th>\n      <th>75%</th>\n      <th>max</th>\n    </tr>\n  </thead>\n  <tbody>\n    <tr>\n      <th>symboling</th>\n      <td>201.0</td>\n      <td>0.840796</td>\n      <td>1.254802</td>\n      <td>-2.0</td>\n      <td>0.0</td>\n      <td>1.0</td>\n      <td>2.0</td>\n      <td>3.0</td>\n    </tr>\n    <tr>\n      <th>wheel-base</th>\n      <td>201.0</td>\n      <td>98.797015</td>\n      <td>6.066366</td>\n      <td>86.6</td>\n      <td>94.5</td>\n      <td>97.0</td>\n      <td>102.4</td>\n      <td>120.9</td>\n    </tr>\n    <tr>\n      <th>lenght</th>\n      <td>201.0</td>\n      <td>174.200995</td>\n      <td>12.322175</td>\n      <td>141.1</td>\n      <td>166.8</td>\n      <td>173.2</td>\n      <td>183.5</td>\n      <td>208.1</td>\n    </tr>\n    <tr>\n      <th>width</th>\n      <td>201.0</td>\n      <td>65.889055</td>\n      <td>2.101471</td>\n      <td>60.3</td>\n      <td>64.1</td>\n      <td>65.5</td>\n      <td>66.6</td>\n      <td>72.0</td>\n    </tr>\n    <tr>\n      <th>height</th>\n      <td>201.0</td>\n      <td>53.766667</td>\n      <td>2.447822</td>\n      <td>47.8</td>\n      <td>52.0</td>\n      <td>54.1</td>\n      <td>55.5</td>\n      <td>59.8</td>\n    </tr>\n    <tr>\n      <th>curb-weight</th>\n      <td>201.0</td>\n      <td>2555.666667</td>\n      <td>517.296727</td>\n      <td>1488.0</td>\n      <td>2169.0</td>\n      <td>2414.0</td>\n      <td>2926.0</td>\n      <td>4066.0</td>\n    </tr>\n    <tr>\n      <th>engine-size</th>\n      <td>201.0</td>\n      <td>126.875622</td>\n      <td>41.546834</td>\n      <td>61.0</td>\n      <td>98.0</td>\n      <td>120.0</td>\n      <td>141.0</td>\n      <td>326.0</td>\n    </tr>\n    <tr>\n      <th>compression-ratio</th>\n      <td>201.0</td>\n      <td>10.164279</td>\n      <td>4.004965</td>\n      <td>7.0</td>\n      <td>8.6</td>\n      <td>9.0</td>\n      <td>9.4</td>\n      <td>23.0</td>\n    </tr>\n    <tr>\n      <th>city-mpg</th>\n      <td>201.0</td>\n      <td>25.179104</td>\n      <td>6.423220</td>\n      <td>13.0</td>\n      <td>19.0</td>\n      <td>24.0</td>\n      <td>30.0</td>\n      <td>49.0</td>\n    </tr>\n    <tr>\n      <th>highway-mpg</th>\n      <td>201.0</td>\n      <td>30.686567</td>\n      <td>6.815150</td>\n      <td>16.0</td>\n      <td>25.0</td>\n      <td>30.0</td>\n      <td>34.0</td>\n      <td>54.0</td>\n    </tr>\n    <tr>\n      <th>price</th>\n      <td>201.0</td>\n      <td>13207.129353</td>\n      <td>7947.066342</td>\n      <td>5118.0</td>\n      <td>7775.0</td>\n      <td>10295.0</td>\n      <td>16500.0</td>\n      <td>45400.0</td>\n    </tr>\n  </tbody>\n</table>\n</div>",
                        "text/plain": "                   count          mean          std     min     25%      50%  \\\nsymboling          201.0      0.840796     1.254802    -2.0     0.0      1.0   \nwheel-base         201.0     98.797015     6.066366    86.6    94.5     97.0   \nlenght             201.0    174.200995    12.322175   141.1   166.8    173.2   \nwidth              201.0     65.889055     2.101471    60.3    64.1     65.5   \nheight             201.0     53.766667     2.447822    47.8    52.0     54.1   \ncurb-weight        201.0   2555.666667   517.296727  1488.0  2169.0   2414.0   \nengine-size        201.0    126.875622    41.546834    61.0    98.0    120.0   \ncompression-ratio  201.0     10.164279     4.004965     7.0     8.6      9.0   \ncity-mpg           201.0     25.179104     6.423220    13.0    19.0     24.0   \nhighway-mpg        201.0     30.686567     6.815150    16.0    25.0     30.0   \nprice              201.0  13207.129353  7947.066342  5118.0  7775.0  10295.0   \n\n                       75%      max  \nsymboling              2.0      3.0  \nwheel-base           102.4    120.9  \nlenght               183.5    208.1  \nwidth                 66.6     72.0  \nheight                55.5     59.8  \ncurb-weight         2926.0   4066.0  \nengine-size          141.0    326.0  \ncompression-ratio      9.4     23.0  \ncity-mpg              30.0     49.0  \nhighway-mpg           34.0     54.0  \nprice              16500.0  45400.0  "
                    },
                    "execution_count": 51,
                    "metadata": {},
                    "output_type": "execute_result"
                }
            ],
            "source": "df.describe().T"
        },
        {
            "cell_type": "code",
            "execution_count": null,
            "metadata": {},
            "outputs": [],
            "source": ""
        },
        {
            "cell_type": "code",
            "execution_count": null,
            "metadata": {},
            "outputs": [],
            "source": ""
        }
    ],
    "metadata": {
        "kernelspec": {
            "display_name": "Python 3.9",
            "language": "python",
            "name": "python3"
        },
        "language_info": {
            "codemirror_mode": {
                "name": "ipython",
                "version": 3
            },
            "file_extension": ".py",
            "mimetype": "text/x-python",
            "name": "python",
            "nbconvert_exporter": "python",
            "pygments_lexer": "ipython3",
            "version": "3.9.12"
        }
    },
    "nbformat": 4,
    "nbformat_minor": 1
}